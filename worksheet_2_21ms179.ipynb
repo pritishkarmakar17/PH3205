{
 "cells": [
  {
   "cell_type": "markdown",
   "id": "13210302",
   "metadata": {},
   "source": [
    "## Pritish Karmakar (21ms179)"
   ]
  },
  {
   "cell_type": "markdown",
   "id": "5f53e231",
   "metadata": {},
   "source": [
    "# Q1"
   ]
  },
  {
   "cell_type": "code",
   "execution_count": 91,
   "id": "dc07783e",
   "metadata": {},
   "outputs": [],
   "source": [
    "from math import *\n",
    "import numpy as np\n",
    "import matplotlib.pyplot as plt"
   ]
  },
  {
   "cell_type": "code",
   "execution_count": 92,
   "id": "b10e7a1e",
   "metadata": {},
   "outputs": [
    {
     "name": "stdout",
     "output_type": "stream",
     "text": [
      " \t  x1\t\t  x2\t\t  x0\t\t |f1(x0)-f1(-3)|\n",
      "\n",
      "1\t -3.250000\t -2.500000\t -3.250000\t 4.515625\n",
      "2\t -3.250000\t -2.875000\t -2.875000\t 1.876953\n",
      "3\t -3.062500\t -2.875000\t -3.062500\t 1.031494\n",
      "4\t -3.062500\t -2.968750\t -2.968750\t 0.492218\n",
      "5\t -3.015625\t -2.968750\t -3.015625\t 0.251957\n",
      "6\t -3.015625\t -2.992188\t -2.992188\t 0.124512\n",
      "7\t -3.003906\t -2.992188\t -3.003906\t 0.062622\n",
      "8\t -3.003906\t -2.998047\t -2.998047\t 0.031219\n",
      "9\t -3.000977\t -2.998047\t -3.000977\t 0.015633\n",
      "10\t -3.000977\t -2.999512\t -2.999512\t 0.007811\n",
      "11\t -3.000244\t -2.999512\t -3.000244\t 0.003907\n",
      "12\t -3.000244\t -2.999878\t -2.999878\t 0.001953\n",
      "13\t -3.000061\t -2.999878\t -3.000061\t 0.000977\n",
      "14\t -3.000061\t -2.999969\t -2.999969\t 0.000488\n",
      "15\t -3.000015\t -2.999969\t -3.000015\t 0.000244\n",
      "16\t -3.000015\t -2.999992\t -2.999992\t 0.000122\n",
      "17\t -3.000004\t -2.999992\t -3.000004\t 0.000061\n",
      "18\t -3.000004\t -2.999998\t -2.999998\t 0.000031\n",
      "19\t -3.000001\t -2.999998\t -3.000001\t 0.000015\n",
      "20\t -3.000001\t -3.000000\t -3.000000\t 0.000008\n",
      "21\t -3.000000\t -3.000000\t -3.000000\t 0.000004\n",
      "22\t -3.000000\t -3.000000\t -3.000000\t 0.000002\n",
      "23\t -3.000000\t -3.000000\t -3.000000\t 0.000001\n",
      "\n",
      "Root of the solution: -3.000000\n"
     ]
    }
   ],
   "source": [
    "f1 = lambda x: (x + 3)*(x - 1)**2 \n",
    "\n",
    "tolerance = 10**(-6)\n",
    "maxiter = 100\n",
    "\n",
    "x1=-4 # left value\n",
    "x2=-2.5 # right value\n",
    "\n",
    "k=0 # no. of iteration\n",
    "\n",
    "print(\" \\t  x1\\t\\t  x2\\t\\t  x0\\t\\t |f1(x0)-f1(-3)|\\n\")\n",
    "# root location check\n",
    "if f1(x1)*f1(x2)>0:\n",
    "    print(\"Interval doesnot contain root\")\n",
    "    \n",
    "    \n",
    "else:\n",
    "    while True:\n",
    "\n",
    "        k+=1\n",
    "\n",
    "        x0=(x1+x2)/2\n",
    "\n",
    "        if f1(x1)*f1(x0)<=0:\n",
    "            x1=x1\n",
    "            x2=x0\n",
    "\n",
    "        else:\n",
    "            x1=x0\n",
    "            x2=x2\n",
    "\n",
    "        print(\"%d\\t %.6f\\t %.6f\\t %.6f\\t %0.6f\" %(k,x1,x2,x0,abs(f1(x0)-f1(-3))))\n",
    "\n",
    "        if abs(f1(x0))<tolerance:\n",
    "            print(\"\\nRoot of the solution: %0.6f\" %(x0))\n",
    "            break\n",
    "\n",
    "        # convergence check\n",
    "        if k==maxiter:\n",
    "            print(f\"It couldn’t converge to the solution within {maxiter} iteration\")\n",
    "            break"
   ]
  },
  {
   "cell_type": "code",
   "execution_count": 93,
   "id": "66cfe8da",
   "metadata": {},
   "outputs": [],
   "source": [
    "def bisection(f1, left_end, right_end, tolerance):\n",
    "    \n",
    "    x1=left_end  \n",
    "    x2=right_end \n",
    "    k=0\n",
    "    \n",
    "    # root location check\n",
    "    if f1(x1)*f1(x2)>0:\n",
    "        print(\"Interval doesnot contain root\")\n",
    "\n",
    "        \n",
    "    else:\n",
    "        while True:\n",
    "\n",
    "            k+=1\n",
    "\n",
    "            x0=(x1+x2)/2\n",
    "\n",
    "            if f1(x1)*f1(x0)<=0:\n",
    "                x1=x1\n",
    "                x2=x0\n",
    "\n",
    "            else:\n",
    "                x1=x0\n",
    "                x2=x2\n",
    "\n",
    "\n",
    "            if abs(f1(x0))<tolerance:\n",
    "                print(\"\\nRoot of the solution: %0.6f\\nNo. of iterations: %d\" %(x0,k))\n",
    "                break\n",
    "\n",
    "            # convergence check\n",
    "            if k==maxiter:\n",
    "                print(f\"It couldn’t converge to the solution within {maxiter} iteration\")\n",
    "                break"
   ]
  },
  {
   "cell_type": "code",
   "execution_count": 94,
   "id": "23b9a508",
   "metadata": {},
   "outputs": [
    {
     "name": "stdout",
     "output_type": "stream",
     "text": [
      "\n",
      "Root of the solution: -3.000000\n",
      "No. of iterations: 23\n"
     ]
    }
   ],
   "source": [
    "g = lambda x: (x + 3)*(x - 1)**2 \n",
    "\n",
    "bisection(g,-4,-2.5,10**(-6))"
   ]
  },
  {
   "cell_type": "markdown",
   "id": "8110c330",
   "metadata": {},
   "source": [
    "# Q2"
   ]
  },
  {
   "cell_type": "code",
   "execution_count": 95,
   "id": "2c8c672e",
   "metadata": {},
   "outputs": [
    {
     "name": "stdout",
     "output_type": "stream",
     "text": [
      " \t  x1\t\t  x2\t\t  x0\t\t f1(x0)\n",
      "\n",
      "1\t 1.300000\t 1.400000\t 1.300000\t 0.099299\n",
      "2\t 1.300000\t 1.350000\t 1.350000\t -0.135074\n",
      "3\t 1.300000\t 1.325000\t 1.325000\t -0.003715\n",
      "4\t 1.312500\t 1.325000\t 1.312500\t 0.050821\n",
      "5\t 1.318750\t 1.325000\t 1.318750\t 0.024366\n",
      "6\t 1.321875\t 1.325000\t 1.321875\t 0.010537\n",
      "7\t 1.323437\t 1.325000\t 1.323437\t 0.003465\n",
      "8\t 1.323437\t 1.324219\t 1.324219\t -0.000112\n",
      "9\t 1.323828\t 1.324219\t 1.323828\t 0.001680\n",
      "10\t 1.324023\t 1.324219\t 1.324023\t 0.000785\n",
      "11\t 1.324121\t 1.324219\t 1.324121\t 0.000337\n",
      "12\t 1.324170\t 1.324219\t 1.324170\t 0.000113\n",
      "13\t 1.324194\t 1.324219\t 1.324194\t 0.000001\n",
      "\n",
      "Root of the solution: 1.324194\n",
      "No. of iterations: 13\n"
     ]
    }
   ],
   "source": [
    "f1 = lambda x: x- (1/3)*tan(x)\n",
    "tolerance = 10**(-6)\n",
    "maxiter = 100\n",
    "\n",
    "x1=1.2 # left value\n",
    "x2=1.4 # right value\n",
    "\n",
    "k=0 # no. of iteration\n",
    "\n",
    "print(\" \\t  x1\\t\\t  x2\\t\\t  x0\\t\\t f1(x0)\\n\")\n",
    "    \n",
    "while True:\n",
    "    \n",
    "    # root location check\n",
    "    if f1(x1)*f1(x2)>0:\n",
    "        print(\"Interval doesnot contain root\")\n",
    "        break\n",
    "    \n",
    "    k+=1\n",
    "\n",
    "    x0=(x1+x2)/2\n",
    "\n",
    "    if f1(x1)*f1(x0)<=0:\n",
    "        x1=x1\n",
    "        x2=x0\n",
    "\n",
    "    else:\n",
    "        x1=x0\n",
    "        x2=x2\n",
    "\n",
    "    print(\"%d\\t %.6f\\t %.6f\\t %.6f\\t %0.6f\" %(k,x1,x2,x0,f1(x0)))\n",
    "    \n",
    "    if abs(f1(x0))<tolerance:\n",
    "        print(\"\\nRoot of the solution: %0.6f\\nNo. of iterations: %d\" %(x0,k))\n",
    "        break\n",
    "    \n",
    "    # convergence check\n",
    "    if k==maxiter:\n",
    "        print(f\"It couldn’t converge to the solution within {maxiter} iteration\")\n",
    "        break"
   ]
  },
  {
   "cell_type": "markdown",
   "id": "a9d418a5",
   "metadata": {},
   "source": [
    "# Q3"
   ]
  },
  {
   "cell_type": "code",
   "execution_count": 96,
   "id": "b29eb6e6",
   "metadata": {},
   "outputs": [
    {
     "data": {
      "text/plain": [
       "<matplotlib.lines.Line2D at 0x7f4c622b9390>"
      ]
     },
     "execution_count": 96,
     "metadata": {},
     "output_type": "execute_result"
    },
    {
     "data": {
      "image/png": "[encoded data removed]",
      "text/plain": [
       "<Figure size 432x288 with 1 Axes>"
      ]
     },
     "metadata": {
      "needs_background": "light"
     },
     "output_type": "display_data"
    }
   ],
   "source": [
    "V = lambda x: x**4 + (2*x/3)**3 - x**2\n",
    "\n",
    "X=np.linspace(-1.5,1,10000)\n",
    "V_data=[V(i) for i in X]\n",
    "plt.plot(X,V_data)\n",
    "plt.axhline(y = -0.125, color = 'r', linestyle = '-') "
   ]
  },
  {
   "cell_type": "code",
   "execution_count": 64,
   "id": "3257757b",
   "metadata": {},
   "outputs": [],
   "source": [
    "E=-0.125\n",
    "f = lambda x: x**4 + (2*x/3)**3 - x**2 - E"
   ]
  },
  {
   "cell_type": "markdown",
   "id": "a5f99c76",
   "metadata": {},
   "source": [
    "### Bisection"
   ]
  },
  {
   "cell_type": "code",
   "execution_count": 85,
   "id": "7e105c37",
   "metadata": {},
   "outputs": [
    {
     "name": "stdout",
     "output_type": "stream",
     "text": [
      "The solution: [-1.10732, -0.35749, 0.42434, 0.74416]\n"
     ]
    }
   ],
   "source": [
    "sol=[]\n",
    "\n",
    "#initial guesses\n",
    "xv=[[-1.2,-1],[-0.5,0],[0,0.5],[0.5,1]]\n",
    "\n",
    "for i in xv:\n",
    "    x1,x2=i[0],i[1]\n",
    "    root=[x1]\n",
    "    while True:\n",
    "        \n",
    "        # bisection point\n",
    "        x0=(x1+x2)/2\n",
    "        root.append(x0)\n",
    "        \n",
    "        if f(x1)*f(x0)<0:\n",
    "            x1=x1\n",
    "            x2=x0\n",
    "        \n",
    "        else:\n",
    "            x1=x0\n",
    "            x2=x2\n",
    "        \n",
    "        accuracy = 10**(-5)\n",
    "        \n",
    "        if abs(root[-1]-root[-2])<accuracy:\n",
    "            sol.append(round(x0,5))\n",
    "            break\n",
    "\n",
    "print(f\"The solution: {sol}\")"
   ]
  },
  {
   "cell_type": "markdown",
   "id": "59072158",
   "metadata": {},
   "source": [
    "### Regula falsi"
   ]
  },
  {
   "cell_type": "code",
   "execution_count": 86,
   "id": "9789017a",
   "metadata": {},
   "outputs": [
    {
     "name": "stdout",
     "output_type": "stream",
     "text": [
      "The solution: [-1.10731, -0.35748, 0.42434, 0.74416]\n"
     ]
    }
   ],
   "source": [
    "sol=[]\n",
    "\n",
    "xv=[[-1.2,-1],[-0.5,0],[0,0.5],[0.5,1]]\n",
    "\n",
    "for i in xv:\n",
    "    x1,x2=i[0],i[1]\n",
    "    root=[x1]\n",
    "    \n",
    "    while True:\n",
    "        \n",
    "        x0= (x1*f(x2) - x2*f(x1))/(f(x2) - f(x1))\n",
    "        root.append(x0)\n",
    "        \n",
    "        if f(x1)*f(x0)<0:\n",
    "            x1=x1\n",
    "            x2=x0\n",
    "        \n",
    "        else:\n",
    "            x1=x0\n",
    "            x2=x2\n",
    "\n",
    "        accuracy = 10**(-5)\n",
    "        if abs(root[-1]-root[-2])<accuracy:\n",
    "            sol.append(round(x0,5))\n",
    "            break\n",
    "\n",
    "print(f\"The solution: {sol}\")"
   ]
  },
  {
   "cell_type": "markdown",
   "id": "ccebd6ab",
   "metadata": {},
   "source": [
    "### Secant"
   ]
  },
  {
   "cell_type": "code",
   "execution_count": 87,
   "id": "f5d2683e",
   "metadata": {},
   "outputs": [
    {
     "name": "stdout",
     "output_type": "stream",
     "text": [
      "The solution: [-1.10732, -0.35748, 0.42434, 0.74417]\n"
     ]
    }
   ],
   "source": [
    "xv=[[-1.05,-1],[-0.5,-0.1],[0.2,0.5],[0.9,1]]\n",
    "sol=[]\n",
    "\n",
    "for i in xv:\n",
    "    x1,x2=i[0],i[1]\n",
    "    root=[x2]\n",
    "    \n",
    "    while True:\n",
    "        x0=(x1*f(x2) - x2*f(x1))/(f(x2) - f(x1))\n",
    "        \n",
    "        x1= x2\n",
    "        x2= x0\n",
    "        root.append(x2)\n",
    "        \n",
    "        accuracy = 10**(-5)\n",
    "        if abs(root[-1]-root[-2])<accuracy:\n",
    "            sol.append(round(x0,5))\n",
    "            break\n",
    "print(f\"The solution: {sol}\")"
   ]
  },
  {
   "cell_type": "markdown",
   "id": "bfceca72",
   "metadata": {},
   "source": [
    "### Newton Raphson"
   ]
  },
  {
   "cell_type": "code",
   "execution_count": 90,
   "id": "ab81a168",
   "metadata": {},
   "outputs": [
    {
     "name": "stdout",
     "output_type": "stream",
     "text": [
      "The solution: [-1.10732, -0.35748, 0.42434, 0.74417]\n"
     ]
    }
   ],
   "source": [
    "#initial guesses\n",
    "init_guess=[-1,-0.5,0.2,0.9]\n",
    "\n",
    "sol=[]\n",
    "\n",
    "for i in init_guess:\n",
    "    x0= i\n",
    "    root=[x0]\n",
    "    \n",
    "    #define derivative\n",
    "    def dfdx(x):\n",
    "        h=10**(-10)\n",
    "        return (f(x+h)-f(x))/h\n",
    "\n",
    "    def h(x):\n",
    "        return -f(x)/dfdx(x)\n",
    "\n",
    "    k=0\n",
    "    while True:\n",
    "        k+=1\n",
    "        x0+=h(x0)\n",
    "        root.append(x0)\n",
    "        if abs(root[-1]-root[-2])<accuracy:\n",
    "            sol.append(round(x0,5))\n",
    "            break\n",
    "        \n",
    "print(f\"The solution: {sol}\")"
   ]
  },
  {
   "cell_type": "code",
   "execution_count": null,
   "id": "3820a91e",
   "metadata": {},
   "outputs": [],
   "source": []
  },
  {
   "cell_type": "code",
   "execution_count": null,
   "id": "7b1f089d",
   "metadata": {},
   "outputs": [],
   "source": []
  }
 ],
 "metadata": {
  "kernelspec": {
   "display_name": "Python 3 (ipykernel)",
   "language": "python",
   "name": "python3"
  },
  "language_info": {
   "codemirror_mode": {
    "name": "ipython",
    "version": 3
   },
   "file_extension": ".py",
   "mimetype": "text/x-python",
   "name": "python",
   "nbconvert_exporter": "python",
   "pygments_lexer": "ipython3",
   "version": "3.10.12"
  }
 },
 "nbformat": 4,
 "nbformat_minor": 5
}
