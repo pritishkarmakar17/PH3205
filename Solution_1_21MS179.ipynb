{
 "cells": [
  {
   "cell_type": "markdown",
   "metadata": {},
   "source": [
    "### PRITISH KARMAKAR (21MS179)"
   ]
  },
  {
   "cell_type": "code",
   "execution_count": 4,
   "metadata": {},
   "outputs": [],
   "source": [
    "from math import *\n",
    "import numpy as np\n",
    "import matplotlib.pyplot as plt"
   ]
  },
  {
   "cell_type": "markdown",
   "metadata": {},
   "source": [
    "## Q1"
   ]
  },
  {
   "cell_type": "code",
   "execution_count": 5,
   "metadata": {},
   "outputs": [],
   "source": [
    "def is_prime(x):\n",
    "    s=True\n",
    "    for i in range(2,round(sqrt(x))+1):\n",
    "        if (x%i==0):\n",
    "            s=False\n",
    "            break\n",
    "    return s"
   ]
  },
  {
   "cell_type": "code",
   "execution_count": 6,
   "metadata": {},
   "outputs": [
    {
     "data": {
      "text/plain": [
       "False"
      ]
     },
     "execution_count": 6,
     "metadata": {},
     "output_type": "execute_result"
    }
   ],
   "source": [
    "is_prime(10)"
   ]
  },
  {
   "cell_type": "markdown",
   "metadata": {},
   "source": [
    "## Q2"
   ]
  },
  {
   "cell_type": "code",
   "execution_count": 7,
   "metadata": {},
   "outputs": [],
   "source": [
    "def generate_prime(lower_lim, upper_lim):\n",
    "    l=[]\n",
    "    for i in range(lower_lim, upper_lim+1):\n",
    "        if is_prime(i)==True:\n",
    "            l.append(i)\n",
    "    return l"
   ]
  },
  {
   "cell_type": "code",
   "execution_count": null,
   "metadata": {},
   "outputs": [],
   "source": []
  },
  {
   "cell_type": "markdown",
   "metadata": {},
   "source": [
    "## Q3"
   ]
  },
  {
   "cell_type": "code",
   "execution_count": 8,
   "metadata": {},
   "outputs": [],
   "source": [
    "def fact(x):\n",
    "    y=1\n",
    "    for i in range(1,x+1):\n",
    "        y*=i\n",
    "    return y\n",
    "\n",
    "def f(x, n):\n",
    "    s=0\n",
    "    for i in range(0,n+1):\n",
    "        s+=x**i/fact(i)\n",
    "    return s"
   ]
  },
  {
   "cell_type": "markdown",
   "metadata": {},
   "source": [
    "## Q4"
   ]
  },
  {
   "cell_type": "code",
   "execution_count": 9,
   "metadata": {},
   "outputs": [
    {
     "name": "stdout",
     "output_type": "stream",
     "text": [
      "x\t n=4\t\t n=8\t\t n=12\t\t n=16\t\t n=20\n",
      "\n",
      "0.1\t 1.105171\t 1.105171\t 1.105171\t 1.105171\t 1.105171\n",
      "0.2\t 1.221400\t 1.221403\t 1.221403\t 1.221403\t 1.221403\n",
      "0.3\t 1.349838\t 1.349859\t 1.349859\t 1.349859\t 1.349859\n",
      "0.4\t 1.491733\t 1.491825\t 1.491825\t 1.491825\t 1.491825\n",
      "0.5\t 1.648438\t 1.648721\t 1.648721\t 1.648721\t 1.648721\n",
      "0.6\t 1.821400\t 1.822119\t 1.822119\t 1.822119\t 1.822119\n",
      "0.7\t 2.012171\t 2.013753\t 2.013753\t 2.013753\t 2.013753\n",
      "0.8\t 2.222400\t 2.225541\t 2.225541\t 2.225541\t 2.225541\n",
      "0.9\t 2.453837\t 2.459602\t 2.459603\t 2.459603\t 2.459603\n",
      "1.0\t 2.708333\t 2.718279\t 2.718282\t 2.718282\t 2.718282\n"
     ]
    }
   ],
   "source": [
    "print(\"x\\t n=4\\t\\t n=8\\t\\t n=12\\t\\t n=16\\t\\t n=20\\n\")\n",
    "for k in np.arange(0.1,1+0.1,0.1):\n",
    "    print(\"%0.1f\\t %.6f\\t %.6f\\t %.6f\\t %.6f\\t %.6f\" %(k,f(k,4),f(k,8),f(k,12),f(k,16),f(k,20)))"
   ]
  },
  {
   "cell_type": "markdown",
   "metadata": {},
   "source": [
    "## Q5"
   ]
  },
  {
   "cell_type": "code",
   "execution_count": 10,
   "metadata": {},
   "outputs": [],
   "source": [
    "# continued fraction\n",
    "def f1(x,n):\n",
    "    return (2+ (2*n-1)**2/x)\n",
    "\n",
    "def c_frac(n):\n",
    "    s=2\n",
    "    for i in np.arange(n,0,-1):\n",
    "        s=f1(s,i)\n",
    "    return s-1\n",
    "\n",
    "def pi_value_1(n):\n",
    "    return 4/c_frac(n)"
   ]
  },
  {
   "cell_type": "code",
   "execution_count": 11,
   "metadata": {},
   "outputs": [],
   "source": [
    "# series\n",
    "def g(n):\n",
    "    s=0\n",
    "    for i in range(0,n):\n",
    "        s+=(-1)**i/(2*i+1)\n",
    "    return s\n",
    "\n",
    "def pi_value_2(n):\n",
    "    return g(n)*4"
   ]
  },
  {
   "cell_type": "code",
   "execution_count": 12,
   "metadata": {},
   "outputs": [
    {
     "name": "stdout",
     "output_type": "stream",
     "text": [
      "n\t pi_value_1\t pi_value_2\n",
      "\n",
      "1\t 2.66666667\t 4.00000000\n",
      "2\t 3.46666667\t 2.66666667\n",
      "3\t 2.89523810\t 3.46666667\n",
      "4\t 3.33968254\t 2.89523810\n",
      "5\t 2.97604618\t 3.33968254\n",
      "6\t 3.28373848\t 2.97604618\n",
      "7\t 3.01707182\t 3.28373848\n",
      "8\t 3.25236593\t 3.01707182\n",
      "9\t 3.04183962\t 3.25236593\n",
      "10\t 3.23231581\t 3.04183962\n"
     ]
    }
   ],
   "source": [
    "# table\n",
    "print(\"n\\t pi_value_1\\t pi_value_2\\n\")\n",
    "for k in range(1,11):\n",
    "    print(\"%d\\t %.8f\\t %.8f\" %(k,pi_value_1(k),pi_value_2(k)))"
   ]
  },
  {
   "cell_type": "code",
   "execution_count": 13,
   "metadata": {},
   "outputs": [
    {
     "data": {
      "image/png": "[encoded data removed]",
      "text/plain": [
       "<Figure size 432x288 with 1 Axes>"
      ]
     },
     "metadata": {
      "needs_background": "light"
     },
     "output_type": "display_data"
    }
   ],
   "source": [
    "#plottng\n",
    "\n",
    "n=20\n",
    "t=np.arange(1,n+1,1)\n",
    "\n",
    "pi_1=[pi_value_1(i) for i in range(1,n+1)]\n",
    "pi_2=[pi_value_2(i) for i in range(1,n+1)]\n",
    "\n",
    "plt.scatter(t,pi_1,label=\"pi_value_1\")\n",
    "plt.scatter(t,pi_2,label=\"pi_value_2\")\n",
    "plt.axhline(y = pi, color = 'r', linestyle = '--', label=\"$\\pi$ value\") \n",
    "plt.xlabel(\"$n$\")\n",
    "plt.legend(loc=0)\n",
    "plt.show()"
   ]
  },
  {
   "cell_type": "code",
   "execution_count": null,
   "metadata": {},
   "outputs": [],
   "source": []
  }
 ],
 "metadata": {
  "kernelspec": {
   "display_name": "Python 3",
   "language": "python",
   "name": "python3"
  },
  "language_info": {
   "codemirror_mode": {
    "name": "ipython",
    "version": 3
   },
   "file_extension": ".py",
   "mimetype": "text/x-python",
   "name": "python",
   "nbconvert_exporter": "python",
   "pygments_lexer": "ipython3",
   "version": "3.7.3"
  }
 },
 "nbformat": 4,
 "nbformat_minor": 2
}
